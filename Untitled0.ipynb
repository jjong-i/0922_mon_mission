{
  "nbformat": 4,
  "nbformat_minor": 0,
  "metadata": {
    "colab": {
      "provenance": [],
      "include_colab_link": true
    },
    "kernelspec": {
      "name": "python3",
      "display_name": "Python 3"
    },
    "language_info": {
      "name": "python"
    }
  },
  "cells": [
    {
      "cell_type": "markdown",
      "metadata": {
        "id": "view-in-github",
        "colab_type": "text"
      },
      "source": [
        "<a href=\"https://colab.research.google.com/github/jjong-i/0922_mon_mission/blob/main/Untitled0.ipynb\" target=\"_parent\"><img src=\"https://colab.research.google.com/assets/colab-badge.svg\" alt=\"Open In Colab\"/></a>"
      ]
    },
    {
      "cell_type": "code",
      "source": [
        "# Cell 1 : 정답 생성 + 입력 처리\n",
        "import random\n",
        "\n",
        "def generate_answer():  #  게임을 시작할때 정답 숫자 5개를 뽑아는 함수  #\n",
        "    \"\"\"\n",
        "    서로 다른 5개의 숫자를 랜덤으로 생성하여 리스트로 반환\n",
        "    \"\"\"\n",
        "    return random.sample(range(0, 10), 5)\n",
        "\n",
        "def get_user_guess():\n",
        "    \"\"\"\n",
        "    사용자에게 5자리 숫자를 입력받아 리스트로 반환\n",
        "    \"\"\"\n",
        "    while True:\n",
        "        guess = input(\"5자리 숫자를 입력하세요: \")\n",
        "        if guess.isdigit() and len(guess) == 5:\n",
        "            return [int(d) for d in guess]\n",
        "        else:\n",
        "            print(\"잘못된 입력입니다. 다시 시도하세요.\")"
      ],
      "metadata": {
        "id": "sEFuwCgYM7Ap"
      },
      "execution_count": 2,
      "outputs": []
    },
    {
      "cell_type": "code",
      "source": [
        "# Cell 2 : 판정 + 메인 루프\n",
        "\n",
        "def check_guess(answer, guess):\n",
        "    \"\"\"\n",
        "    정답(answer)과 입력(guess)을 비교하여\n",
        "    strike, ball 개수를 반환\n",
        "    \"\"\"\n",
        "    strike = sum(a == g for a, g in zip(answer, guess))\n",
        "    ball = sum((g in answer) and (answer[i] != g) for i, g in enumerate(guess))\n",
        "    return strike, ball\n",
        "\n",
        "\n",
        "# 메인 루프 실행\n",
        "    answer = generate_answer()\n",
        "    print(\"게임 시작! 5자리 숫자를 맞춰보세요.\")\n",
        "\n",
        "    while True:\n",
        "        guess = get_user_guess()\n",
        "        strike, ball = check_guess(answer, guess)\n",
        "        print(f\"{strike} Strike, {ball} Ball\")\n",
        "\n",
        "        if strike == 5:\n",
        "            print(\"🎉 정답입니다! 게임 종료!\")\n",
        "            break\n",
        "\n",
        "            # 나가는 방법\n",
        "            # 정답지도 출력하게 하기\n",
        "            # 문제정의를 먼저 하고 코드 짜기"
      ],
      "metadata": {
        "colab": {
          "base_uri": "https://localhost:8080/"
        },
        "id": "ZRiFtWxINJjL",
        "outputId": "87668f17-bea0-4acc-8b59-e584d7ce6665"
      },
      "execution_count": null,
      "outputs": [
        {
          "output_type": "stream",
          "name": "stdout",
          "text": [
            "게임 시작! 5자리 숫자를 맞춰보세요.\n",
            "5자리 숫자를 입력하세요: 5, 3,2 , 1 ,9\n",
            "잘못된 입력입니다. 다시 시도하세요.\n",
            "5자리 숫자를 입력하세요: 1 2 3 4 5\n",
            "잘못된 입력입니다. 다시 시도하세요.\n",
            "5자리 숫자를 입력하세요: 37149\n",
            "1 Strike, 1 Ball\n",
            "5자리 숫자를 입력하세요: 14378\n",
            "1 Strike, 1 Ball\n",
            "5자리 숫자를 입력하세요: 23579\n",
            "0 Strike, 2 Ball\n",
            "5자리 숫자를 입력하세요: 05826\n",
            "1 Strike, 2 Ball\n",
            "5자리 숫자를 입력하세요: 12578\n",
            "1 Strike, 1 Ball\n"
          ]
        }
      ]
    }
  ]
}